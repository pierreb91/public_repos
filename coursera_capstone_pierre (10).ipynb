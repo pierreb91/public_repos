{
 "cells": [
  {
   "cell_type": "markdown",
   "metadata": {},
   "source": [
    "# IBM Capstone Project: Cluster and analyze Amsterdam Neighbourhoods"
   ]
  },
  {
   "cell_type": "markdown",
   "metadata": {},
   "source": [
    "By Pierre Borst"
   ]
  },
  {
   "cell_type": "markdown",
   "metadata": {},
   "source": [
    "## Data"
   ]
  },
  {
   "cell_type": "markdown",
   "metadata": {},
   "source": [
    "#### Import Amsterdam data and postal_codes coordinates"
   ]
  },
  {
   "cell_type": "code",
   "execution_count": 2666,
   "metadata": {},
   "outputs": [
    {
     "name": "stderr",
     "output_type": "stream",
     "text": [
      "/Users/digitaldecisions/anaconda3/lib/python3.7/site-packages/IPython/core/interactiveshell.py:3057: DtypeWarning: Columns (1) have mixed types. Specify dtype option on import or set low_memory=False.\n",
      "  interactivity=interactivity, compiler=compiler, result=result)\n"
     ]
    }
   ],
   "source": [
    "import pandas as pd\n",
    "import numpy as np\n",
    "import csv\n",
    "low_memory=False\n",
    "\n",
    "amsterdam_data_csv = pd.read_csv('https://api.data.amsterdam.nl/dcatd/datasets/G5JpqNbhweXZSw/purls/LXGOPUQQfAXBbg', sep=';')\n",
    "nbh_coor_df = pd.read_csv('https://github.com/bobdenotter/4pp/raw/master/4pp.csv')\n",
    "nbh_coor_df['postcode'] = nbh_coor_df['postcode'].astype('str')\n",
    "nbh_coor_df.rename(columns={'postcode':'postal_code'}, inplace = True)\n",
    "nbh_coor_df.drop(columns=['id', 'woonplaats', 'alternatieve_schrijfwijzen', 'gemeente', 'provincie', 'netnummer', 'soort'], inplace = True)"
   ]
  },
  {
   "cell_type": "markdown",
   "metadata": {},
   "source": [
    "#### Set lists for neighbourhoud and neighbourhoud_codes"
   ]
  },
  {
   "cell_type": "code",
   "execution_count": 2667,
   "metadata": {},
   "outputs": [],
   "source": [
    "nbh = [\"Kop Zeedijk\" , \"Oude Kerk e.o.\" , \"Burgwallen Oost\" , \"Nes e.o.\" , \"BG-terrein e.o.\" , \"Stationsplein e.o.\" , \"Hemelrijk\" , \"Nieuwendijk Noord\" , \"Spuistraat Noord\" , \"Nieuwe Kerk e.o.\" , \"Spuistraat Zuid\" , \"Begijnhofbuurt\" , \"Kalverdriehoek\" , \"Langestraat e.o.\" , \"Leliegracht e.o.\" , \"Felix Meritisbuurt\" , \"Leidsegracht Noord\" , \"Spiegelbuurt\" , \"Gouden Bocht\" , \"Van Loonbuurt\" , \"Amstelveldbuurt\" , \"Rembrandtpleinbuurt\" , \"Reguliersbuurt\" , \"Leidsegracht Zuid\" , \"Oosterdokseiland\" , \"Scheepvaarthuisbuurt\" , \"Rapenburg\" , \"Lastage\" , \"Nieuwmarkt\" , \"Uilenburg\" , \"Valkenburg\" , \"Zuiderkerkbuurt\" , \"Waterloopleinbuurt\" , \"Westerdokseiland\" , \"Haarlemmerbuurt Oost\" , \"Haarlemmerbuurt West\" , \"Westelijke Eilanden\" , \"Planciusbuurt Noord\" , \"Planciusbuurt Zuid\" , \"Driehoekbuurt\" , \"Bloemgrachtbuurt\" , \"Marnixbuurt Noord\" , \"Zaagpoortbuurt\" , \"Marnixbuurt Midden\" , \"Elandsgrachtbuurt\" , \"Passeerdersgrachtbuurt\" , \"Groenmarktkadebuurt\" , \"Marnixbuurt Zuid\" , \"Anjeliersbuurt Noord\" , \"Anjeliersbuurt Zuid\" , \"Leidsebuurt Noordwest\" , \"Leidsebuurt Zuidwest\" , \"Leidsebuurt Noordoost\" , \"Leidsebuurt Zuidoost\" , \"Weteringbuurt\" , \"Den Texbuurt\" , \"Utrechtsebuurt Zuid\" , \"Frederikspleinbuurt\" , \"Weesperbuurt\" , \"Sarphatistrook\" , \"de Plantage\" , \"Alexanderplein e.o.\" , \"Marine-Etablissement\" , \"Kattenburg\" , \"Wittenburg\" , \"Oostenburg\" , \"Czaar Peterbuurt\" , \"Het Funen\" , \"Kazernebuurt\" , \"Kadijken\" , \"Coenhaven/Mercuriushaven\" , \"Alfa-driehoek\" , \"Petroleumhaven\" , \"Westhaven Noord\" , \"Vervoerscentrum\" , \"Amerikahaven\" , \"Afrikahaven\" , \"Westhaven Zuid\" , \"Houthavens West\" , \"Houthavens Oost\" , \"Zeeheldenbuurt\" , \"Spaarndammerbuurt Noordoost\" , \"Spaarndammerbuurt Zuidoost\" , \"Spaarndammerbuurt Zuidwest\" , \"Spaarndammerbuurt Midden\" , \"Spaarndammerbuurt Noordwest\" , \"Westergasfabriek\" , \"Overbraker Binnenpolder\" , \"De Wittenbuurt Noord\" , \"De Wittenbuurt Zuid\" , \"Staatsliedenbuurt Noordoost\" , \"Fannius Scholtenbuurt\" , \"Westerstaatsman\" , \"Buyskade e.o.\" , \"Ecowijk\" , \"Markthallen\" , \"Bedrijvencentrum Westerkwartier\" , \"Marcanti\" , \"Frederik Hendrikbuurt Noord\" , \"Frederik Hendrikbuurt Zuidoost\" , \"Frederik Hendrikbuurt Zuidwest\" , \"Da Costabuurt Noord\" , \"Bellamybuurt Noord\" , \"Bellamybuurt Zuid\" , \"Da Costabuurt Zuid\" , \"Borgerbuurt\" , \"Lootsbuurt\" , \"Helmersbuurt Oost\" , \"WG-terrein\" , \"Cremerbuurt Oost\" , \"Cremerbuurt West\" , \"Vondelparkbuurt West\" , \"Vondelparkbuurt Oost\" , \"Vondelparkbuurt Midden\" , \"Woon- en groengebied Sloterdijk\" , \"Bedrijventerrein Sloterdijk I\" , \"Bedrijventerrein Landlust\" , \"Bosleeuw\" , \"Landlust Zuid\" , \"Erasmusparkbuurt Oost\" , \"Gibraltarbuurt\" , \"Landlust Noord\" , \"Erasmusparkbuurt West\" , \"Robert Scottbuurt Oost\" , \"Robert Scottbuurt West\" , \"Laan van Spartaan\" , \"Kolenkitbuurt Zuid\" , \"Kolenkitbuurt Noord\" , \"Geuzenhofbuurt\" , \"Trompbuurt\" , \"Pieter van der Doesbuurt\" , \"John Franklinbuurt\" , \"Jan Maijenbuurt\" , \"Orteliusbuurt Noord\" , \"Mercatorpark\" , \"Balboaplein e.o.\" , \"Columbusplein e.o.\" , \"Orteliusbuurt Midden\" , \"Orteliusbuurt Zuid\" , \"Paramariboplein e.o.\" , \"Postjeskade e.o.\" , \"Kortenaerkwartier\" , \"Filips van Almondekwartier\" , \"De Wester Quartier\" , \"Van Brakelkwartier\" , \"Sloterdijk II\" , \"Sloterdijk III Oost\" , \"Sloterdijk III West\" , \"De Heining\" , \"Teleport\" , \"Bretten Oost\" , \"Bretten West\" , \"Buurt 3\" , \"Buurt 2\" , \"Slotermeer Zuid\" , \"Noordoever Sloterplas\" , \"Buurt 4 Oost\" , \"Buurt 5  Noord\" , \"Sloterpark\" , \"Buurt 5 Zuid\" , \"Buurt 6\" , \"Buurt 7\" , \"Buurt 8\" , \"Buurt 9\" , \"Eendrachtspark\" , \"Osdorper Binnenpolder\" , \"Buurt 10\" , \"Ookmeer\" , \"Osdorper Bovenpolder\" , \"Bedrijvenpark Lutkemeer\" , \"Wildeman\" , \"Meer en Oever\" , \"Osdorpplein e.o.\" , \"Calandlaan/Lelylaan\" , \"Osdorp Zuidoost\" , \"Osdorp Midden Noord\" , \"Osdorp Midden Zuid\" , \"Zuidwestkwadrant Osdorp Noord\" , \"Zuidwestkwadrant Osdorp Zuid\" , \"De Punt\" , \"Bedrijvencentrum Osdorp\" , \"Middelveldsche Akerpolder\" , \"De Aker West\" , \"De Aker Oost\" , \"Oostoever Sloterplas\" , \"Emanuel van Meterenbuurt\" , \"Jacob Geelbuurt\" , \"Overtoomse Veld Noord\" , \"Overtoomse Veld Zuid\" , \"Rembrandtpark Noord\" , \"Rembrandtpark Zuid\" , \"Johan Jongkindbuurt\" , \"Lucas/Andreasziekenhuis e.o.\" , \"Koningin Wilhelminaplein\" , \"Andreasterrein\" , \"Delflandpleinbuurt Oost\" , \"Delflandpleinbuurt West\" , \"Riekerhaven\" , \"Schipluidenbuurt\" , \"Riekerpolder\" , \"Park Haagseweg\" , \"Nieuwe Meer\" , \"Sloterweg e.o.\" , \"Nieuw Sloten Noordwest\" , \"Nieuw Sloten Noordoost\" , \"BelgiÃ¯Â¿Â½plein e.o.\" , \"Nieuw Sloten Zuidwest\" , \"Nieuw Sloten Zuidoost\" , \"Dorp Sloten\" , \"Louis Chrispijnbuurt\" , \"Jacques Veldmanbuurt\" , \"Staalmanbuurt\" , \"Medisch Centrum Slotervaart\" , \"Zuidas Noord\" , \"RAI\" , \"VU-kwartier\" , \"Zuidas Zuid\" , \"Vivaldi\" , \"Hemonybuurt\" , \"Gerard Doubuurt\" , \"Frans Halsbuurt\" , \"Hercules Seghersbuurt\" , \"Sarphatiparkbuurt\" , \"Willibrordusbuurt\" , \"Van der Helstpleinbuurt\" , \"Lizzy Ansinghbuurt\" , \"Cornelis Troostbuurt\" , \"Diamantbuurt\" , \"Burgemeester Tellegenbuurt Oost\" , \"Burgemeester Tellegenbuurt West\" , \"Surinamepleinbuurt\" , \"Westlandgrachtbuurt\" , \"Aalsmeerwegbuurt West\" , \"Aalsmeerwegbuurt Oost\" , \"Legmeerpleinbuurt\" , \"Bedrijventerrein Schinkel\" , \"Schinkelbuurt Noord\" , \"Schinkelbuurt Zuid\" , \"Valeriusbuurt Oost\" , \"Valeriusbuurt West\" , \"Willemsparkbuurt Noord\" , \"Vondelpark West\" , \"Johannnes Vermeerbuurt\" , \"P.C. Hooftbuurt\" , \"Concertgebouwbuurt\" , \"Cornelis Schuytbuurt\" , \"Banpleinbuurt\" , \"Hondecoeterbuurt\" , \"Harmoniehofbuurt\" , \"Museumplein\" , \"Vondelpark Oost\" , \"Duivelseiland\" , \"Bertelmanpleinbuurt\" , \"Marathonbuurt Oost\" , \"Marathonbuurt West\" , \"Olympisch Stadion e.o.\" , \"IJsbaanpad e.o.\" , \"Van Tuyllbuurt\" , \"Diepenbrockbuurt\" , \"Beethovenbuurt\" , \"Hiltonbuurt\" , \"Minervabuurt Noord\" , \"Minervabuurt Midden\" , \"Minervabuurt Zuid\" , \"Wielingenbuurt\" , \"Scheldebuurt West\" , \"Scheldebuurt Midden\" , \"Scheldebuurt Oost\" , \"Veluwebuurt\" , \"Kop Zuidas\" , \"IJselbuurt West\" , \"IJselbuurt Oost\" , \"Kromme Mijdrechtbuurt\" , \"Rijnbuurt Oost\" , \"Rijnbuurt Midden\" , \"Rijnbuurt West\" , \"Zorgvlied\" , \"Prinses Irenebuurt\" , \"Beatrixpark\" , \"Gelderlandpleinbuurt\" , \"Buitenveldert Midden Zuid\" , \"Buitenveldert Zuidwest\" , \"Amsterdamse Bos\" , \"Buitenveldert West Midden\" , \"Zuiderhof\" , \"De Klenckebuurt\" , \"Buitenveldert Oost Midden\" , \"Buitenveldert Zuidoost\" , \"Amstelpark\" , \"Swammerdambuurt\" , \"Weesperzijde Midden/Zuid\" , \"Parooldriehoek\" , \"Oosterparkbuurt Noordwest\" , \"Oosterpark\" , \"Oosterparkbuurt Zuidoost\" , \"Oosterparkbuurt Zuidwest\" , \"Dapperbuurt Noord\" , \"Dapperbuurt Zuid\" , \"Oostpoort\" , \"Transvaalbuurt West\" , \"Transvaalbuurt Oost\" , \"Noordwestkwadrant Indische Buurt Noord\" , \"Noordwestkwadrant Indische Buurt Zuid\" , \"Zuidwestkwadrant Indische Buurt\" , \"Noordoostkwadrant Indische Buurt\" , \"Zuidoostkwadrant Indische Buurt\" , \"Zeeburgerdijk Oost\" , \"Flevopark\" , \"Oostelijke Handelskade\" , \"Rietlanden\" , \"Java-eiland\" , \"KNSM-eiland\" , \"Sporenburg\" , \"Borneo\" , \"Entrepot-Noordwest\" , \"Architectenbuurt\" , \"Bedrijvengebied Veelaan\" , \"Bedrijvengebied Cruquiusweg\" , \"Bedrijvengebied Zeeburgerkade\" , \"Zeeburgereiland Noordwest\" , \"Zeeburgereiland Zuidoost\" , \"Zeeburgereiland Zuidwest\" , \"Nieuwe Diep/Diemerpark\" , \"RI Oost terrein\" , \"Zeeburgereiland Noordoost\" , \"Steigereiland Noord\" , \"Steigereiland Zuid\" , \"Haveneiland Zuidwest/Rieteiland West\" , \"Haveneiland Noordwest\" , \"Haveneiland Noordoost\" , \"Strandeiland\" , \"Middeneiland Zuidoost\" , \"Middeneiland Noordoost\" , \"Middeneiland Zuidwest\" , \"Middeneiland Noordwest\" , \"Buiteneiland\" , \"Centrumeiland\" , \"Rieteiland Oost\" , \"Haveneiland Oost\" , \"Haveneiland Noord\" , \"De Eenhoorn\" , \"Julianapark\" , \"Don Bosco\" , \"Frankendael\" , \"Tuindorp Amstelstation\" , \"De Wetbuurt\" , \"Tuindorp Frankendael\" , \"Van der Kunbuurt\" , \"Linnaeusparkbuurt\" , \"Middenmeer Noord\" , \"Middenmeer Zuid\" , \"Sportpark Middenmeer Zuid\" , \"Sportpark Middenmeer Noord\" , \"Park De Meer\" , \"Sportpark Voorland\" , \"Science Park Noord\" , \"Science Park Zuid\" , \"Betondorp\" , \"Nieuwe Oosterbegraafplaats\" , \"Drieburg\" , \"Weespertrekvaart\" , \"Amstelglorie\" , \"Overamstel\" , \"Amstelkwartier Noord\" , \"De Omval\" , \"Amstelkwartier Zuid\" , \"Amstelkwartier West\" , \"Van der Pekbuurt\" , \"Bloemenbuurt Zuid\" , \"Bloemenbuurt Noord\" , \"IJplein e.o.\" , \"Vogelbuurt Zuid\" , \"Vogelbuurt Noord\" , \"Vliegenbos\" , \"Tuindorp Nieuwendam West\" , \"Tuindorp Nieuwendam Oost\" , \"Blauwe Zand\" , \"Buiksloterdijk West\" , \"Buiksloterdijk Oost\" , \"Nieuwendammerdijk West\" , \"Nieuwendammerdijk Oost\" , \"Nieuwendammerdijk Zuid\" , \"Tuindorp Oostzaan West\" , \"Tuindorp Oostzaan Oost\" , \"Terrasdorp\" , \"De Bongerd\" , \"Oostzanerdijk\" , \"Walvisbuurt\" , \"Twiske West\" , \"Noorder IJplas\" , \"Molenwijk\" , \"Circus/Kermisbuurt\" , \"Kadoelen\" , \"Twiske Oost\" , \"Baanakkerspark Noord\" , \"Baanakkerspark Zuid\" , \"Werengouw Midden\" , \"Markengouw Midden\" , \"Markengouw Zuid\" , \"Werengouw Zuid\" , \"Rode Kruisbuurt\" , \"Loenermark\" , \"Buikslotermeerplein\" , \"Plan van Gool\" , \"De Kleine Wereld\" , \"Buikslotermeer Noord\" , \"Banne Zuidwest\" , \"Banne Zuidoost\" , \"Banne Noordwest\" , \"Banne Noordoost\" , \"Buiksloterbreek\" , \"Marjoleinterrein\" , \"Papaverweg e.o.\" , \"Cornelis Douwesterrein\" , \"NDSM terrein\" , \"Buiksloterham\" , \"Overhoeks\" , \"Bedrijventerrein Hamerstraat\" , \"Zamenhofstraat e.o.\" , \"Bedrijventerrein Nieuwendammerdijk\" , \"Schellingwoude West\" , \"Schellingwoude Oost\" , \"Schellingwoude Noord\" , \"Durgerdam\" , \"Zwarte Gouw\" , \"Ransdorp\" , \"Holysloot\" , \"Zunderdorp\" , \"Noorderstrook West\" , \"Noorderstrook Oost\" , \"Nintemanterrein\" , \"Elzenhagen Zuid\" , \"Elzenhagen Noord\" , \"Hoofdcentrum Zuidoost\" , \"Amstel III deel A/B Noord\" , \"Amstel III deel C/D Noord\" , \"Amstel III deel A/B Zuid\" , \"Amstel III deel C/D Zuid\" , \"AMC\" , \"Hoge Dijk\" , \"Venserpolder West\" , \"Venserpolder Oost\" , \"D-buurt\" , \"F-buurt\" , \"Amsterdamse Poort\" , \"Hoptille\" , \"Rechte H-buurt\" , \"Hakfort/Huigenbos\" , \"Huntum\" , \"Vogeltjeswei\" , \"Nelson Mandelapark\" , \"E-buurt\" , \"G-buurt West\" , \"Bijlmermuseum Noord\" , \"Kortvoort\" , \"Kelbergen\" , \"K-buurt Midden\" , \"K-buurt Zuidoost\" , \"K-buurt Zuidwest\" , \"Grunder/Koningshoef\" , \"G-buurt Oost\" , \"Kantershof\" , \"Gooise Kant\" , \"G-buurt Noord\" , \"Bijlmermuseum Zuid\" , \"L-buurt\" , \"Gaasperpark\" , \"Gaasperplas\" , \"Holendrecht Noordwest\" , \"Reigersbos Noord\" , \"Holendrecht Oost\" , \"Gaasperdam Noord\" , \"Gaasperdam Zuid\" , \"Reigersbos Midden\" , \"Reigersbos Zuid\" , \"Gein Noordwest\" , \"Gein Zuidwest\" , \"Gein Noordoost\" , \"Gein Zuidoost\" , \"Dorp Driemond\" , \"Landelijk Gebied Driemond\"]\n",
    "nbh_codes = [\"A00a\", \"A00b\", \"A00c\", \"A00d\", \"A00e\", \"A01a\", \"A01b\", \"A01c\", \"A01d\", \"A01e\", \"A01f\", \"A01g\", \"A01h\", \"A02a\", \"A02b\", \"A02c\", \"A02d\", \"A03a\", \"A03b\", \"A03c\", \"A03d\", \"A03e\", \"A03f\", \"A03g\", \"A04a\", \"A04b\", \"A04c\", \"A04d\", \"A04e\", \"A04f\", \"A04g\", \"A04h\", \"A04i\", \"A05a\", \"A05b\", \"A05c\", \"A05d\", \"A05f\", \"A05g\", \"A06a\", \"A06c\", \"A06d\", \"A06e\", \"A06f\", \"A06g\", \"A06h\", \"A06i\", \"A06j\", \"A06k\", \"A06l\", \"A07a\", \"A07b\", \"A07c\", \"A07d\", \"A07e\", \"A07f\", \"A07g\", \"A07h\", \"A08a\", \"A08b\", \"A08d\", \"A08e\", \"A09a\", \"A09b\", \"A09c\", \"A09d\", \"A09e\", \"A09f\", \"A09h\", \"A09i\", \"B10a\", \"B10b\", \"B10c\", \"B10d\", \"B10e\", \"B10f\", \"B10g\", \"B10h\", \"E12a\", \"E12b\", \"E13a\", \"E13b\", \"E13c\", \"E13d\", \"E13e\", \"E13f\", \"E13g\", \"E13h\", \"E14a\", \"E14b\", \"E14c\", \"E14d\", \"E14e\", \"E14f\", \"E15a\", \"E15b\", \"E15c\", \"E15d\", \"E16a\", \"E16b\", \"E16c\", \"E17a\", \"E18a\", \"E18b\", \"E19a\", \"E19b\", \"E19c\", \"E20a\", \"E20b\", \"E20c\", \"E21a\", \"E21b\", \"E22a\", \"E22b\", \"E36a\", \"E36b\", \"E37a\", \"E37c\", \"E37d\", \"E37e\", \"E37f\", \"E37g\", \"E38c\", \"E38d\", \"E39a\", \"E39b\", \"E39c\", \"E39d\", \"E40a\", \"E40b\", \"E40c\", \"E41a\", \"E41b\", \"E41c\", \"E41d\", \"E42a\", \"E42b\", \"E42c\", \"E42d\", \"E43a\", \"E43b\", \"E75a\", \"E75b\", \"E75c\", \"E75d\", \"F11a\", \"F11c\", \"F11d\", \"F11e\", \"F11f\", \"F11h\", \"F11j\", \"F76a\", \"F76b\", \"F77a\", \"F77b\", \"F77c\", \"F77d\", \"F77e\", \"F77f\", \"F78a\", \"F78b\", \"F78c\", \"F78d\", \"F78e\", \"F79a\", \"F79b\", \"F80a\", \"F80b\", \"F80c\", \"F81a\", \"F81b\", \"F81c\", \"F81d\", \"F81e\", \"F82a\", \"F82b\", \"F82c\", \"F82d\", \"F83a\", \"F83b\", \"F84a\", \"F84b\", \"F84c\", \"F85a\", \"F85b\", \"F85c\", \"F86a\", \"F86b\", \"F86c\", \"F86d\", \"F86e\", \"F86f\", \"F87a\", \"F87b\", \"F87c\", \"F87d\", \"F87e\", \"F87f\", \"F88a\", \"F88b\", \"F88c\", \"F88d\", \"F88e\", \"F88f\", \"F88g\", \"F88h\", \"F88i\", \"F88j\", \"F89a\", \"F89b\", \"F89c\", \"F89d\", \"K23a\", \"K23b\", \"K23c\", \"K23d\", \"K23e\", \"K24a\", \"K24b\", \"K24c\", \"K24d\", \"K24e\", \"K25a\", \"K25b\", \"K25c\", \"K25d\", \"K26a\", \"K26b\", \"K26c\", \"K44a\", \"K44b\", \"K44c\", \"K44d\", \"K44e\", \"K44f\", \"K45a\", \"K45b\", \"K46a\", \"K46b\", \"K46c\", \"K46d\", \"K47a\", \"K47b\", \"K47c\", \"K47d\", \"K47e\", \"K47f\", \"K47g\", \"K47h\", \"K47i\", \"K47j\", \"K48a\", \"K48b\", \"K48c\", \"K48d\", \"K48e\", \"K48f\", \"K49a\", \"K49b\", \"K49c\", \"K49d\", \"K49e\", \"K49f\", \"K52a\", \"K52b\", \"K52c\", \"K52d\", \"K52g\", \"K52h\", \"K53a\", \"K53b\", \"K54a\", \"K54b\", \"K54c\", \"K54d\", \"K54e\", \"K59a\", \"K59b\", \"K90a\", \"K90c\", \"K90d\", \"K90e\", \"K90i\", \"K90j\", \"K91a\", \"K91b\", \"K91c\", \"K91d\", \"M27a\", \"M27b\", \"M27c\", \"M28a\", \"M28b\", \"M28c\", \"M28d\", \"M29a\", \"M29b\", \"M29c\", \"M30a\", \"M30b\", \"M31a\", \"M31b\", \"M31c\", \"M32a\", \"M32b\", \"M32c\", \"M32d\", \"M33a\", \"M33b\", \"M33c\", \"M33d\", \"M33e\", \"M33f\", \"M33g\", \"M33h\", \"M33i\", \"M33j\", \"M33k\", \"M34a\", \"M34c\", \"M34d\", \"M34e\", \"M34f\", \"M34g\", \"M35a\", \"M35b\", \"M35c\", \"M35e\", \"M35f\", \"M50a\", \"M50b\", \"M50c\", \"M50d\", \"M50e\", \"M50f\", \"M50g\", \"M51a\", \"M51b\", \"M51c\", \"M55b\", \"M55c\", \"M55d\", \"M55e\", \"M55f\", \"M55g\", \"M55h\", \"M55i\", \"M56a\", \"M56b\", \"M56c\", \"M56d\", \"M56e\", \"M56f\", \"M56g\", \"M56h\", \"M56i\", \"M57a\", \"M57b\", \"M57c\", \"M58b\", \"M58e\", \"M58f\", \"M58g\", \"M58h\", \"M58i\", \"M58j\", \"N60a\", \"N60b\", \"N60c\", \"N61a\", \"N61b\", \"N61c\", \"N61d\", \"N62a\", \"N62b\", \"N63a\", \"N64a\", \"N64b\", \"N64c\", \"N64d\", \"N64e\", \"N65a\", \"N65b\", \"N65c\", \"N65d\", \"N66b\", \"N66c\", \"N66d\", \"N66e\", \"N66f\", \"N66g\", \"N67a\", \"N67b\", \"N68a\", \"N68b\", \"N68c\", \"N68d\", \"N68e\", \"N68f\", \"N69a\", \"N69c\", \"N69j\", \"N69k\", \"N69l\", \"N69m\", \"N70a\", \"N70b\", \"N70c\", \"N70d\", \"N70e\", \"N70f\", \"N71c\", \"N71e\", \"N71f\", \"N71g\", \"N71h\", \"N72a\", \"N72b\", \"N72c\", \"N73a\", \"N73b\", \"N73c\", \"N73d\", \"N73e\", \"N73f\", \"N73g\", \"N73h\", \"N73i\", \"N73j\", \"N74a\", \"N74b\", \"N74c\", \"T92a\", \"T92b\", \"T92c\", \"T92d\", \"T92e\", \"T92f\", \"T92g\", \"T93a\", \"T93b\", \"T93c\", \"T93d\", \"T93e\", \"T93f\", \"T93g\", \"T93h\", \"T93i\", \"T93j\", \"T93k\", \"T94a\", \"T94b\", \"T94c\", \"T94d\", \"T94e\", \"T94f\", \"T94g\", \"T94h\", \"T94i\", \"T94j\", \"T94k\", \"T94l\", \"T94m\", \"T94n\", \"T95a\", \"T95b\", \"T95c\", \"T96a\", \"T96b\", \"T96c\", \"T96d\", \"T96e\", \"T96f\", \"T96g\", \"T97a\", \"T97b\", \"T97c\", \"T97d\", \"T98a\", \"T98b\"]"
   ]
  },
  {
   "cell_type": "markdown",
   "metadata": {},
   "source": [
    "#### Scrape neighbourhood name-postal_codes combo from web"
   ]
  },
  {
   "cell_type": "code",
   "execution_count": null,
   "metadata": {
    "scrolled": true
   },
   "outputs": [],
   "source": [
    "from bs4 import BeautifulSoup\n",
    "import requests\n",
    "\n",
    "#Set URL to page and table\n",
    "url_base = 'https://postcode.site/noord-holland/municipality/amsterdam/neighbourhood/'\n",
    "nbh_edit = []\n",
    "#Make edits in nbh names to adjust to URL format \n",
    "for i in nbh:\n",
    "    edit = i.replace(' ', '-').replace('e.o.', 'e-o').replace('.', '-').replace('--', '-').replace('.-', '-').replace('/', '-').replace('Ã¯Â¿Â½', 'e').replace('de-Plantage', 'Plantage').replace('Louis-Chrispijnbuurt', 'louis-crispijnbuurt').replace('Gooise-Kant', 'Gooisekant')\n",
    "    nbh_edit.append(edit)\n",
    "\n",
    "postal_codes = []\n",
    "for i in nbh_edit:\n",
    "    #scrape postal code for each nbh\n",
    "    url = url_base + i\n",
    "    source = requests.get(url).text\n",
    "    soup = BeautifulSoup(source, 'lxml')\n",
    "    table = soup.find('table', class_='table table-bordered table-striped')\n",
    "    try:\n",
    "        data_prep = []\n",
    "        for i in table:   \n",
    "            data_prep.extend(table.findAll('td'))\n",
    "        #extract postal_code and append to list\n",
    "        data_prep = str(data_prep)\n",
    "        data_prep = data_prep.split(\",\")\n",
    "        postal_code = data_prep[9].replace('</a>', '')\n",
    "        postal_code = postal_code[-4:]\n",
    "        postal_codes.append(postal_code)\n",
    "    except TypeError:\n",
    "        #append NaN if URL didn't work\n",
    "        postal_codes.append(np.nan)\n",
    "        pass\n",
    " "
   ]
  },
  {
   "cell_type": "markdown",
   "metadata": {},
   "source": [
    "## Build DataFrames"
   ]
  },
  {
   "cell_type": "code",
   "execution_count": null,
   "metadata": {},
   "outputs": [],
   "source": [
    "#translate headers to english and filter year & area\n",
    "amsterdam_data = amsterdam_data_csv.copy()\n",
    "amsterdam_data.rename({'jaar': 'year', 'gebiedcode15': 'nbh_code', 'variabele': 'variable', 'waarde': 'value'}, axis='columns', inplace = True)\n",
    "amsterdam_data = amsterdam_data[amsterdam_data['year'] == 2019]\n",
    "amsterdam_data = amsterdam_data[amsterdam_data['nbh_code'].isin(nbh_codes)]\n",
    "amsterdam_data = amsterdam_data.dropna()\n"
   ]
  },
  {
   "cell_type": "markdown",
   "metadata": {},
   "source": [
    "#### Extract variables of interest"
   ]
  },
  {
   "cell_type": "code",
   "execution_count": null,
   "metadata": {},
   "outputs": [],
   "source": [
    "offices = amsterdam_data[amsterdam_data['variable'] == 'BHVEST_KANT']\n",
    "shops_daily = amsterdam_data[amsterdam_data['variable'] == 'BHVEST_WINKVESTDG']\n",
    "shops_other = amsterdam_data[amsterdam_data['variable'] == 'BHVEST_WINKVESTNDG']\n",
    "ind = amsterdam_data[amsterdam_data['variable'] == 'BHVEST_INDBW']\n",
    "community = amsterdam_data[amsterdam_data['variable'] == 'BHVEST_WELZ']\n",
    "sport_leis = amsterdam_data[amsterdam_data['variable'] == 'BHVEST_SR']\n",
    "culture = amsterdam_data[amsterdam_data['variable'] == 'BHVEST_CULT']\n",
    "bars = amsterdam_data[amsterdam_data['variable'] == 'BHVEST_CA']\n",
    "rest = amsterdam_data[amsterdam_data['variable'] == 'BHVEST_RE']\n",
    "bars_rest_oth = amsterdam_data[amsterdam_data['variable'] == 'BHVEST_OVHRC']\n",
    "hotels = amsterdam_data[amsterdam_data['variable'] == 'BHVEST_HO']\n",
    "price_m2 = amsterdam_data[amsterdam_data['variable'] == 'WWOZ_M2']\n",
    "pop_1000 = amsterdam_data[amsterdam_data['variable'] == 'BEVTOTAAL']\n",
    "\n",
    "#rename \"values\"\n",
    "price_m2.rename(columns={'value':'price_m2'}, inplace = True)\n",
    "pop_1000.rename(columns={'value':'pop_1000'}, inplace = True)\n",
    "pop_1000['pop_1000'] = pop_1000['pop_1000']/1000\n",
    "offices.rename(columns={'value':'offices'}, inplace = True)\n",
    "shops_daily.rename(columns={'value':'shops_daily'}, inplace = True)\n",
    "shops_other.rename(columns={'value':'shops_other'}, inplace = True)\n",
    "community.rename(columns={'value':'community'}, inplace = True)\n",
    "culture.rename(columns={'value':'culture'}, inplace = True)\n",
    "sport_leis.rename(columns={'value':'sport_leis'}, inplace = True)\n",
    "bars.rename(columns={'value':'bars'}, inplace = True)\n",
    "rest.rename(columns={'value':'rest'}, inplace = True)\n",
    "bars_rest_oth.rename(columns={'value':'bars_rest_oth'}, inplace = True)\n",
    "hotels.rename(columns={'value':'hotels'}, inplace = True)\n",
    "ind.rename(columns={'value':'ind'}, inplace = True)\n",
    "\n",
    "# Set DF for nbh code and postal code\n",
    "nbh_code_df = pd.DataFrame({'nbh_code': nbh_codes, 'nbh' : nbh})\n",
    "postal_df = pd.DataFrame({'postal_code': postal_codes, 'nbh' : nbh})\n",
    "nbh_df = nbh_code_df.merge(postal_df, left_on='nbh', right_on='nbh')"
   ]
  },
  {
   "cell_type": "markdown",
   "metadata": {},
   "source": [
    "#### Create venues DataFrame"
   ]
  },
  {
   "cell_type": "code",
   "execution_count": null,
   "metadata": {},
   "outputs": [],
   "source": [
    "venues = pd.DataFrame()\n",
    "venues = pd.DataFrame(amsterdam_data['nbh_code'].unique(), columns = ['nbh_code'])\n",
    "\n",
    "#add venues to DF \n",
    "variables_df_l = [ind, offices, shops_daily, shops_other, community, culture, sport_leis, bars, rest, bars_rest_oth, hotels]\n",
    "for i in variables_df_l:\n",
    "    i.drop(columns=['year', 'variable'], inplace = True)\n",
    "    venues = venues.merge(i, left_on='nbh_code', right_on='nbh_code')    \n",
    "    \n",
    "#concatenate and drop columns  \n",
    "venues['bars_rest'] = venues['bars'] + venues['rest'] + venues['bars_rest_oth']\n",
    "venues.drop(columns=['bars', 'rest', 'bars_rest_oth'], inplace = True)\n",
    "venues = venues.dropna()\n",
    "\n",
    "#group nbh -> postal and SUM values\n",
    "venues = venues.merge(nbh_df, left_on='nbh_code', right_on='nbh_code')\n",
    "venues = venues.groupby('postal_code', as_index = False).sum()\n",
    "\n",
    "#add price_m2 and pop_1000 to DF and merge postal_code data\n",
    "nbh_df = nbh_df.merge(nbh_coor_df, left_on='postal_code', right_on='postal_code')\n",
    "other_l = [price_m2, pop_1000]\n",
    "for i in other_l:\n",
    "    i = i.merge(nbh_df, left_on='nbh_code', right_on='nbh_code')\n",
    "    i.drop(columns=['year', 'variable', 'nbh_code', 'nbh', 'latitude', 'longitude'], inplace = True)\n",
    "    i = i.groupby('postal_code', as_index = False).mean() \n",
    "    venues = venues.merge(i, left_on='postal_code', right_on='postal_code')\n",
    "\n",
    "#total venues column\n",
    "venues_l = [\"ind\",\"offices\", \"shops_daily\", \"shops_other\", \"community\", \"culture\", \"sport_leis\", \"bars_rest\", \"hotels\"]\n",
    "venues['total_venues'] = 0\n",
    "for i in venues_l:\n",
    "    venues['total_venues'] = venues['total_venues'] + venues[i]\n",
    "venues['total_venues_1000pop'] = venues['total_venues']/venues['pop_1000']\n",
    "\n",
    "#venue shares\n",
    "for i in venues_l:\n",
    "    venues[i + '_share'] = venues[i]/venues['total_venues']\n",
    "\n",
    "#leisure venues\n",
    "venues['leisure_venues'] = venues['total_venues'] - venues['offices'] - venues['ind'] \n",
    "venues['leisure_venues_1000pop'] = venues['leisure_venues']/venues['pop_1000']\n",
    "\n",
    "#merge latitude & longitude data\n",
    "venues = venues.merge(nbh_coor_df, left_on='postal_code', right_on='postal_code')"
   ]
  },
  {
   "cell_type": "markdown",
   "metadata": {},
   "source": [
    "## Cluster venue data"
   ]
  },
  {
   "cell_type": "code",
   "execution_count": null,
   "metadata": {},
   "outputs": [],
   "source": [
    "from sklearn import preprocessing\n",
    "from sklearn.cluster import KMeans\n",
    "from sklearn.preprocessing import StandardScaler\n",
    "from scipy.spatial.distance import cdist\n",
    "\n",
    "# from sklearn.model_selection import train_test_split\n",
    "# from sklearn.neighbors import KNeighborsClassifier"
   ]
  },
  {
   "cell_type": "markdown",
   "metadata": {},
   "source": [
    "#### Cluster data and find correct k using \"Elbow method\""
   ]
  },
  {
   "cell_type": "code",
   "execution_count": null,
   "metadata": {},
   "outputs": [],
   "source": [
    "#for clustering use only the data on venue shares (to compare venue distribution) and the population data (to incorporate the density of people living in area)\n",
    "x = venues.copy()\n",
    "for i in x.columns:\n",
    "    if not '_share' in i and i not in ['pop_1000']:\n",
    "        x.drop(columns=[i], inplace = True)\n",
    "x = np.nan_to_num(x)        \n",
    "cluster_dataset = StandardScaler().fit_transform(x)\n",
    "\n",
    "#Find optimal k\n",
    "distortions = [] \n",
    "inertias = [] \n",
    "mapping1 = {} \n",
    "mapping2 = {} \n",
    "K = range(1,15) \n",
    "  \n",
    "for k in K: \n",
    "    #Building and fitting the model \n",
    "    kmeanModel = KMeans(n_clusters=k, n_init=25).fit(x) \n",
    "    kmeanModel.fit(x)   \n",
    "      \n",
    "    distortions.append(sum(np.min(cdist(x, kmeanModel.cluster_centers_, \n",
    "                      'euclidean'),axis=1)) / x.shape[0]) \n",
    "    inertias.append(kmeanModel.inertia_) \n",
    "  \n",
    "    mapping1[k] = sum(np.min(cdist(x, kmeanModel.cluster_centers_, \n",
    "                 'euclidean'),axis=1)) / x.shape[0] \n",
    "    mapping2[k] = kmeanModel.inertia_\n",
    "\n",
    "    \n",
    "# plot distorption\n",
    "plt.plot(K, distortions, 'bx-') \n",
    "plt.xlabel('Values of K') \n",
    "plt.ylabel('Distortion') \n",
    "plt.title('The Elbow Method using Distortion') \n",
    "plt.show()\n",
    "\n",
    "\n",
    "## Unhash lines below to retrieve distortion data and to check for inertia\n",
    "\n",
    "# # check distortion\n",
    "# for key,val in mapping1.items(): \n",
    "#     print(str(key)+' : '+str(val))  \n",
    "\n",
    "# #check inertia\n",
    "# for key,val in mapping2.items(): \n",
    "#     print(str(key)+' : '+str(val))\n",
    "\n",
    "# # plot distorption\n",
    "# plt.plot(K, inertias, 'bx-') \n",
    "# plt.xlabel('Values of K') \n",
    "# plt.ylabel('Inertia') \n",
    "# plt.title('The Elbow Method using Inertia') \n",
    "# plt.show()"
   ]
  },
  {
   "cell_type": "code",
   "execution_count": null,
   "metadata": {},
   "outputs": [],
   "source": [
    "#Set num_clusters to the correct \"Elbow point\"\n",
    "num_clusters = 6\n",
    "k_means = KMeans(init=\"k-means++\", n_clusters=num_clusters, n_init=25)\n",
    "k_means.fit(cluster_dataset)\n",
    "nbh_clusters = k_means.labels_\n",
    "venues[\"nbh_clusters\"] = nbh_clusters\n",
    "clusters_df = venues.groupby('nbh_clusters', as_index=False).mean().sort_values('total_venues', ascending=False)\n",
    "clusters_order = clusters_df['nbh_clusters'].tolist()"
   ]
  },
  {
   "cell_type": "code",
   "execution_count": null,
   "metadata": {},
   "outputs": [],
   "source": [
    "clusters_df"
   ]
  },
  {
   "cell_type": "markdown",
   "metadata": {},
   "source": [
    "## Plot cluster data"
   ]
  },
  {
   "cell_type": "code",
   "execution_count": null,
   "metadata": {},
   "outputs": [],
   "source": [
    "# Matplotlib and associated plotting modules\n",
    "import matplotlib.pyplot as plt\n",
    "import matplotlib.cm as cm\n",
    "import matplotlib.colors as colors\n",
    "from matplotlib import rc\n",
    "import matplotlib.ticker as ticker\n",
    "%matplotlib inline\n",
    "\n",
    "import seaborn as sns\n",
    "import itertools"
   ]
  },
  {
   "cell_type": "markdown",
   "metadata": {},
   "source": [
    "#### Shares of venue types per Cluster"
   ]
  },
  {
   "cell_type": "code",
   "execution_count": null,
   "metadata": {},
   "outputs": [],
   "source": [
    "# Data\n",
    "cluster_plt_data = clusters_df.copy()\n",
    "for i in cluster_plt_data.columns:\n",
    "    if not '_share' in i:\n",
    "        cluster_plt_data.drop(columns=[i], inplace = True)\n",
    "\n",
    "cluster_plt_data['total'] = 0\n",
    "for i in cluster_plt_data.columns:        \n",
    "    if i not in ['total']:\n",
    "        cluster_plt_data['total'] = cluster_plt_data['total'] + cluster_plt_data[i]\n",
    "\n",
    "clusters = clusters_df['nbh_clusters']\n",
    "\n",
    "ind = np.array(cluster_plt_data['ind_share'])\n",
    "community = np.array(cluster_plt_data['community_share'])\n",
    "sport_leis = np.array(cluster_plt_data['sport_leis_share'])\n",
    "hotels = np.array(cluster_plt_data['hotels_share'])\n",
    "bars_rest = np.array(cluster_plt_data['bars_rest_share'])\n",
    "shops_other = np.array(cluster_plt_data['shops_other_share'])\n",
    "shops_daily = np.array(cluster_plt_data['shops_daily_share'])\n",
    "culture = np.array(cluster_plt_data['culture_share'])\n",
    "offices = np.array(cluster_plt_data['offices_share'])\n",
    "\n",
    "i = [x for x, _ in enumerate(clusters)]\n",
    "plt.bar(i, ind, width=0.8, label='ind', color='tab:brown', bottom=offices+culture+shops_daily+shops_other+bars_rest+hotels+community+sport_leis)\n",
    "plt.bar(i, sport_leis, width=0.8, label='sport_leis', color='tab:olive', bottom=offices+culture+shops_daily+shops_other+bars_rest+hotels+community)\n",
    "plt.bar(i, community, width=0.8, label='community', color='tab:green', bottom=offices+culture+shops_daily+shops_other+bars_rest+hotels)\n",
    "plt.bar(i, hotels, width=0.8, label='hotels', color='tab:orange', bottom=offices+culture+shops_daily+shops_other+bars_rest)\n",
    "plt.bar(i, bars_rest, width=0.8, label='bars_rest', color='tab:purple', bottom=offices+culture+shops_daily+shops_other)\n",
    "plt.bar(i, shops_other, width=0.8, label='shops_other', color='tab:pink', bottom=offices+culture+shops_daily)\n",
    "plt.bar(i, shops_daily, width=0.8, label='shops_daily', color='tab:red', bottom=offices+culture)\n",
    "plt.bar(i, culture, width=0.8, label='culture', color='tab:blue', bottom=offices)\n",
    "plt.bar(i, offices, width=0.8, label='offices', color='tab:grey')\n",
    "\n",
    "plt.xticks(i, cluster_labels, fontsize=14, rotation=90)\n",
    "plt.ylabel(\"Venues\")\n",
    "plt.xlabel(\"Clusters\")\n",
    "plt.legend(loc='center left', bbox_to_anchor=(1, 0.5))\n",
    "plt.title(\"Venue types per Cluster\")\n",
    "plt.figure(figsize=(8, 6))\n",
    "plt.tight_layout()\n",
    "plt.show()"
   ]
  },
  {
   "cell_type": "markdown",
   "metadata": {},
   "source": [
    "#### Total venues per Cluster"
   ]
  },
  {
   "cell_type": "code",
   "execution_count": null,
   "metadata": {},
   "outputs": [],
   "source": [
    "#Data\n",
    "fig, ax1 = plt.subplots(figsize=(10,6))\n",
    "total_venues = np.array(clusters_df['total_venues'])\n",
    "leisure_venues = np.array(clusters_df['leisure_venues'])\n",
    "price_m2 = np.array(clusters_df['price_m2'])\n",
    "\n",
    "i = [x for x, _ in enumerate(clusters)]\n",
    "\n",
    "#bar plot creation\n",
    "ax1.set_title('Total venues and price m2', fontsize=16)\n",
    "ax1.set_xlabel('Cluster', fontsize=16)\n",
    "ax1.set_ylabel('Venues', fontsize=16)\n",
    "plt.xticks(i, cluster_labels, fontsize=14, rotation=90)\n",
    "\n",
    "plt.ylim(0,3500)\n",
    "plt.bar(i, total_venues, width=0.8, label='other_venues', color='tab:grey')\n",
    "plt.bar(i, leisure_venues, width=0.8, label='leisure_venues', color='tab:orange')\n",
    "\n",
    "# ax1 = sns.barplot(data=total_venues, color='tab:grey')\n",
    "# ax1 = sns.barplot(data = leisure_venues, color='tab:orange')\n",
    "ax1.tick_params(axis='y')\n",
    "\n",
    "#specify we want to share the same x-axis\n",
    "ax2 = ax1.twinx()\n",
    "#line plot creation\n",
    "ax2.set_ylabel('Avg price per m2', fontsize=16)\n",
    "ax2 = sns.lineplot(data = price_m2, linewidth=4, sort=False, color='tab:blue')\n",
    "ax2.tick_params(axis='y')\n",
    "plt.ylim(0,7500)\n",
    "#show plot\n",
    "plt.show()"
   ]
  },
  {
   "cell_type": "markdown",
   "metadata": {},
   "source": [
    "#### Set cluster labels and circle marker colours"
   ]
  },
  {
   "cell_type": "code",
   "execution_count": null,
   "metadata": {},
   "outputs": [],
   "source": [
    "cluster_labels = ['Touristic heart', 'Local centre', 'Offices', 'Bars and shops', 'Nature', 'Suburbs and Industry', '-', '-']\n",
    "\n",
    "colours = [\"tab:orange\", \"tab:red\", \"tab:grey\", \"tab:blue\", \"tab:green\", \"tab:purple\", \"tab:pink\", \"tab:brown\", \"tab:olive\", \"tab:cyan\"]\n",
    "rainbow = [colors.rgb2hex(i) for i in colours]"
   ]
  },
  {
   "cell_type": "markdown",
   "metadata": {},
   "source": [
    "## Plot clusters on map"
   ]
  },
  {
   "cell_type": "code",
   "execution_count": null,
   "metadata": {},
   "outputs": [],
   "source": [
    "# !conda install -c conda-forge geopy --yes # uncomment this line if you haven't installed yet\n",
    "from geopy.geocoders import Nominatim # convert an address into latitude and longitude values\n",
    "\n",
    "# !conda install -c conda-forge folium=0.5.0 --yes # uncomment this line if you haven't installed yet\n",
    "import folium # map rendering library"
   ]
  },
  {
   "cell_type": "code",
   "execution_count": null,
   "metadata": {
    "scrolled": false
   },
   "outputs": [],
   "source": [
    "# Amsterdam geo\n",
    "address = 'Amsterdam, the Netherlands'\n",
    "\n",
    "geolocator = Nominatim(user_agent=\"nl_explorer\")\n",
    "location = geolocator.geocode(address)\n",
    "latitude = location.latitude\n",
    "longitude = location.longitude\n",
    "\n",
    "# create map\n",
    "map_ams = folium.Map(location=[latitude, longitude], zoom_start=12)\n",
    "\n",
    "# price_m2 scale colours\n",
    "postal_code_stats = pd.DataFrame(venues[['postal_code', 'price_m2', 'pop_1000']])\n",
    "minima = min(postal_code_stats['price_m2'])\n",
    "maxima = max(postal_code_stats['price_m2'])\n",
    "norm = colors.Normalize(vmin=minima, vmax=maxima, clip=True)\n",
    "colour_mapper = cm.ScalarMappable(norm=norm, cmap=cm.YlOrRd)\n",
    "colours_price_m2 = []\n",
    "for i in postal_code_stats['price_m2']:\n",
    "    colours_price_m2.append(colour_mapper.to_rgba(i))    \n",
    "colours_price_m2 = [colors.rgb2hex(i) for i in colours_price_m2]    \n",
    "postal_code_stats['price_colour'] = colours_price_m2\n",
    "\n",
    "venues = venues.sort_values('leisure_venues', ascending=True)\n",
    "\n",
    "##Add average price_m2 heat circlemarkers\n",
    "# for lat, lng, postal_code, nbh_clusters, price_m2 in zip(venues['latitude'], venues['longitude'], venues['postal_code'], venues['nbh_clusters'], venues['price_m2']):\n",
    "#     folium.CircleMarker(\n",
    "#         [lat, lng],\n",
    "#         radius=15,\n",
    "#         color=rainbow[clusters_order.index(nbh_clusters)],\n",
    "#         fill=True,\n",
    "#         fill_color=colours_price_m2[postal_code_stats['postal_code'].tolist().index(postal_code)],\n",
    "#         fill_opacity=0.7).add_to(map_ams)\n",
    "\n",
    "#Add cluster circle markers\n",
    "for lat, lng, postal_code, nbh_clusters, price_m2 in zip(venues['latitude'], venues['longitude'], venues['postal_code'], venues['nbh_clusters'], venues['price_m2']):\n",
    "    label = folium.Popup(str(cluster_labels[clusters_order.index(nbh_clusters)]) + ', Postal Code: ' + str(postal_code) + ', ' + str(int(price_m2)) + ' E price m2', parse_html=True)\n",
    "    folium.CircleMarker(\n",
    "        [lat, lng],\n",
    "        radius=5,\n",
    "        popup=label,\n",
    "        color=rainbow[clusters_order.index(nbh_clusters)],\n",
    "        fill=True,\n",
    "        fill_color=rainbow[clusters_order.index(nbh_clusters)],\n",
    "        fill_opacity=1).add_to(map_ams)    \n",
    "    \n",
    "map_ams\n"
   ]
  },
  {
   "cell_type": "code",
   "execution_count": null,
   "metadata": {},
   "outputs": [],
   "source": [
    "your = [\"time\"]\n",
    "for time in your:\n",
    "    print(\"Thank you!\")"
   ]
  }
 ],
 "metadata": {
  "kernelspec": {
   "display_name": "Python 3",
   "language": "python",
   "name": "python3"
  },
  "language_info": {
   "codemirror_mode": {
    "name": "ipython",
    "version": 3
   },
   "file_extension": ".py",
   "mimetype": "text/x-python",
   "name": "python",
   "nbconvert_exporter": "python",
   "pygments_lexer": "ipython3",
   "version": "3.7.3"
  }
 },
 "nbformat": 4,
 "nbformat_minor": 4
}
